{
 "cells": [
  {
   "cell_type": "markdown",
   "metadata": {},
   "source": [
    "## Importing Packages"
   ]
  },
  {
   "cell_type": "code",
   "execution_count": null,
   "metadata": {},
   "outputs": [],
   "source": [
    "import cv2\n",
    "import mediapipe as mp\n",
    "import numpy as np\n",
    "import pandas as pd\n",
    "\n",
    "from sklearn.model_selection import train_test_split\n",
    "from sklearn.pipeline import make_pipeline \n",
    "from sklearn.preprocessing import StandardScaler \n",
    "from sklearn.linear_model import LogisticRegression, RidgeClassifier\n",
    "from sklearn.ensemble import RandomForestClassifier, GradientBoostingClassifier\n",
    "from sklearn.metrics import accuracy_score # Accuracy metrics \n",
    "import pickle\n",
    "\n",
    "from IPython.display import display, Image\n",
    "from base64 import b64decode\n",
    "import io\n",
    "import html\n",
    "import time\n",
    "import PIL\n",
    "import os\n",
    "import csv"
   ]
  },
  {
   "cell_type": "code",
   "execution_count": null,
   "metadata": {},
   "outputs": [],
   "source": [
    "mp_drawing = mp.solutions.drawing_utils\n",
    "mp_drawing_styles = mp.solutions.drawing_styles\n",
    "mp_holistic = mp.solutions.holistic"
   ]
  },
  {
   "cell_type": "markdown",
   "metadata": {},
   "source": [
    "## Video Capture"
   ]
  },
  {
   "cell_type": "code",
   "execution_count": null,
   "metadata": {},
   "outputs": [],
   "source": [
    "cap = cv2.VideoCapture(0)\n",
    "cap.set(3,640) # set Width\n",
    "cap.set(4,480) # set Height\n",
    "\n",
    "with mp_holistic.Holistic(min_detection_confidence=0.5, min_tracking_confidence=0.5) as holistic:\n",
    "    while(cap.isOpened()):\n",
    "        success, image = cap.read()\n",
    "            \n",
    "        if not success:\n",
    "            print(\"Empty camera frame!\")\n",
    "            continue\n",
    "\n",
    "        image.flags.writeable = False\n",
    "        image = cv2.cvtColor(image, cv2.COLOR_BGR2RGB)\n",
    "        results = holistic.process(image)\n",
    "            \n",
    "        image.flags.writeable = True\n",
    "        image = cv2.cvtColor(image, cv2.COLOR_BGR2RGB)\n",
    "            \n",
    "        # draw face landmarks \n",
    "        mp_drawing.draw_landmarks(image, results.face_landmarks, mp_holistic.FACEMESH_TESSELATION, landmark_drawing_spec=None, connection_drawing_spec=mp_drawing_styles.get_default_face_mesh_tesselation_style())\n",
    "\n",
    "        # right hand \n",
    "        mp_drawing.draw_landmarks(image, results.right_hand_landmarks, mp_holistic.HAND_CONNECTIONS)\n",
    "\n",
    "        # left hand\n",
    "        mp_drawing.draw_landmarks(image, results.left_hand_landmarks, mp_holistic.HAND_CONNECTIONS)\n",
    "\n",
    "        # pose detections\n",
    "        mp_drawing.draw_landmarks(image, results.pose_landmarks, mp_holistic.POSE_CONNECTIONS)\n",
    "\n",
    "        cv2.imshow('Analysis', image)\n",
    "\n",
    "        k = cv2.waitKey(30) & 0xff\n",
    "        if k == 27: # press 'ESC' to quit\n",
    "            break\n",
    "\n",
    "    cap.release()\n",
    "    cv2.destroyAllWindows()"
   ]
  },
  {
   "cell_type": "markdown",
   "metadata": {},
   "source": [
    "## Get Training Data"
   ]
  },
  {
   "cell_type": "markdown",
   "metadata": {},
   "source": [
    "### How to Get Data\n",
    "Set the class_name to the pose name and score -- ie. HeadSittingScore3\n",
    "\n",
    "Extract desired landmarks -- ie. Face and Pose\n",
    "\n",
    "Run video capture and get into position of said pose name and score, following the HINE evaluation model"
   ]
  },
  {
   "cell_type": "code",
   "execution_count": null,
   "metadata": {},
   "outputs": [],
   "source": [
    "class_name = \"HeadSittingScore3\""
   ]
  },
  {
   "cell_type": "code",
   "execution_count": null,
   "metadata": {},
   "outputs": [],
   "source": [
    "cap = cv2.VideoCapture(0)\n",
    "cap.set(3,640) # set Width\n",
    "cap.set(4,480) # set Height\n",
    "\n",
    "with mp_holistic.Holistic(min_detection_confidence=0.5, min_tracking_confidence=0.5) as holistic:\n",
    "    while(cap.isOpened()):\n",
    "        success, image = cap.read()\n",
    "            \n",
    "        if not success:\n",
    "            print(\"Empty camera frame!\")\n",
    "            continue\n",
    "\n",
    "        image.flags.writeable = False\n",
    "        image = cv2.cvtColor(image, cv2.COLOR_BGR2RGB)\n",
    "        results = holistic.process(image)\n",
    "            \n",
    "        image.flags.writeable = True\n",
    "        image = cv2.cvtColor(image, cv2.COLOR_BGR2RGB)\n",
    "            \n",
    "        # draw face landmarks \n",
    "        mp_drawing.draw_landmarks(image, results.face_landmarks, mp_holistic.FACEMESH_TESSELATION, landmark_drawing_spec=None, connection_drawing_spec=mp_drawing_styles.get_default_face_mesh_tesselation_style())\n",
    "\n",
    "        # right hand \n",
    "        mp_drawing.draw_landmarks(image, results.right_hand_landmarks, mp_holistic.HAND_CONNECTIONS)\n",
    "\n",
    "        # left hand\n",
    "        mp_drawing.draw_landmarks(image, results.left_hand_landmarks, mp_holistic.HAND_CONNECTIONS)\n",
    "\n",
    "        # pose detections\n",
    "        mp_drawing.draw_landmarks(image, results.pose_landmarks, mp_holistic.POSE_CONNECTIONS)\n",
    "\n",
    "        try:\n",
    "            # extract face landmarks\n",
    "            face = results.face_landmarks.landmark\n",
    "            face_row = list(np.array([[landmark.x, landmark.y, landmark.z, landmark.visibility] for landmark in face]).flatten())\n",
    "\n",
    "            # extract pose landmarks\n",
    "            pose = results.pose_landmarks.landmark\n",
    "            pose_row = list(np.array([[landmark.x, landmark.y, landmark.z, landmark.visibility] for landmark in pose]).flatten())\n",
    "            \n",
    "            # concate rows\n",
    "            row = pose_row+face_row\n",
    "            \n",
    "            # append class name \n",
    "            row.insert(0, class_name)\n",
    "\n",
    "            # export to CSV\n",
    "            with open('coords.csv', mode='a', newline='') as f:\n",
    "                csv_writer = csv.writer(f, delimiter=',', quotechar='\"', quoting=csv.QUOTE_MINIMAL)\n",
    "                csv_writer.writerow(row) \n",
    "            \n",
    "        except:\n",
    "            pass\n",
    "\n",
    "        cv2.imshow('Analysis', image)\n",
    "\n",
    "        k = cv2.waitKey(30) & 0xff\n",
    "        if k == 27: # press 'ESC' to quit\n",
    "            break\n",
    "\n",
    "    cap.release()\n",
    "    cv2.destroyAllWindows()"
   ]
  },
  {
   "cell_type": "markdown",
   "metadata": {},
   "source": [
    "## Training Model with Scikit Learn"
   ]
  },
  {
   "cell_type": "markdown",
   "metadata": {},
   "source": [
    "### Read and Process Data"
   ]
  },
  {
   "cell_type": "code",
   "execution_count": null,
   "metadata": {},
   "outputs": [],
   "source": [
    "data = pd.read_csv('data.csv')"
   ]
  },
  {
   "cell_type": "code",
   "execution_count": null,
   "metadata": {},
   "outputs": [],
   "source": [
    "data.head()"
   ]
  },
  {
   "cell_type": "code",
   "execution_count": null,
   "metadata": {},
   "outputs": [],
   "source": [
    "X = data.drop('class', axis = 1)\n",
    "y = data['class']"
   ]
  },
  {
   "cell_type": "code",
   "execution_count": null,
   "metadata": {},
   "outputs": [],
   "source": [
    "X_train, X_test, y_train, y_test = train_test_split(X, y, test_size=0.3, random_state=1234)"
   ]
  },
  {
   "cell_type": "code",
   "execution_count": null,
   "metadata": {},
   "outputs": [],
   "source": [
    "y_test"
   ]
  },
  {
   "cell_type": "markdown",
   "metadata": {},
   "source": [
    "### Train the Classification Model"
   ]
  },
  {
   "cell_type": "code",
   "execution_count": null,
   "metadata": {},
   "outputs": [],
   "source": [
    "pipelines = {\n",
    "    'lr' : make_pipeline(StandardScaler(), LogisticRegression(solver='lbfgs', max_iter=10000)),\n",
    "    'rc' : make_pipeline(StandardScaler(), RidgeClassifier()),\n",
    "    'rf' : make_pipeline(StandardScaler(), RandomForestClassifier()),\n",
    "    'gb' : make_pipeline(StandardScaler(), GradientBoostingClassifier()),\n",
    "}"
   ]
  },
  {
   "cell_type": "code",
   "execution_count": null,
   "metadata": {},
   "outputs": [],
   "source": [
    "fit_models = {}\n",
    "for algo, pipeline in pipelines.items():\n",
    "    model = pipeline.fit(X_train.values, y_train.values)\n",
    "    fit_models[algo] = model"
   ]
  },
  {
   "cell_type": "code",
   "execution_count": null,
   "metadata": {},
   "outputs": [],
   "source": [
    "fit_models"
   ]
  },
  {
   "cell_type": "markdown",
   "metadata": {},
   "source": [
    "### Determine Which Model to Use"
   ]
  },
  {
   "cell_type": "code",
   "execution_count": 24,
   "metadata": {},
   "outputs": [
    {
     "name": "stdout",
     "output_type": "stream",
     "text": [
      "lr 0.868421052631579\n",
      "rc 0.9298245614035088\n",
      "rf 0.8596491228070176\n",
      "gb 0.8596491228070176\n"
     ]
    }
   ],
   "source": [
    "for algo, model in fit_models.items():\n",
    "    yhat = model.predict(X_test.values)\n",
    "    print(algo, accuracy_score(y_test, yhat))"
   ]
  },
  {
   "cell_type": "code",
   "execution_count": null,
   "metadata": {},
   "outputs": [],
   "source": [
    "fit_models['rc'].predict(X_test.values)"
   ]
  },
  {
   "cell_type": "code",
   "execution_count": null,
   "metadata": {},
   "outputs": [],
   "source": [
    "y_test"
   ]
  },
  {
   "cell_type": "code",
   "execution_count": null,
   "metadata": {},
   "outputs": [],
   "source": [
    "with open('body_language.pkl', 'wb') as f:\n",
    "    pickle.dump(fit_models['rc'], f)"
   ]
  },
  {
   "cell_type": "markdown",
   "metadata": {},
   "source": [
    "## Make Detections"
   ]
  },
  {
   "cell_type": "code",
   "execution_count": null,
   "metadata": {},
   "outputs": [],
   "source": [
    "with open('body_language.pkl', 'rb') as f:\n",
    "    model = pickle.load(f)"
   ]
  },
  {
   "cell_type": "code",
   "execution_count": null,
   "metadata": {},
   "outputs": [],
   "source": [
    "model"
   ]
  },
  {
   "cell_type": "code",
   "execution_count": 26,
   "metadata": {},
   "outputs": [
    {
     "name": "stdout",
     "output_type": "stream",
     "text": [
      "HeadSittingScore1 [2.13138161e-04 2.88810911e-04 2.62826338e-04 3.96478659e-04\n",
      " 3.14612416e-04 2.27119853e-04 2.33549009e-04 9.97701168e-01\n",
      " 1.18586439e-04 9.16084902e-05 1.42944162e-04 9.15763613e-06]\n",
      "HeadSittingScore1 [8.67979809e-05 1.17612583e-04 1.07030875e-04 1.46908440e-04\n",
      " 1.28119741e-04 9.24901091e-05 9.51082568e-05 9.99078394e-01\n",
      " 4.82921141e-05 3.73057623e-05 5.82104276e-05 3.72932591e-06]\n",
      "HeadSittingScore1 [5.73187461e-05 7.76677722e-05 7.06799341e-05 9.70127618e-05\n",
      " 8.37015342e-05 6.10776544e-05 6.28065995e-05 9.99392306e-01\n",
      " 3.18906430e-05 2.46355905e-05 3.84403956e-05 2.46271024e-06]\n",
      "HeadSittingScore1 [5.73187460e-05 7.76685819e-05 7.06799340e-05 9.70127617e-05\n",
      " 8.37015341e-05 6.10776544e-05 6.28065994e-05 9.99392305e-01\n",
      " 3.18906430e-05 2.46355905e-05 3.84403955e-05 2.46271024e-06]\n",
      "HeadSittingScore1 [5.73186942e-05 7.76685116e-05 7.06798701e-05 9.70126739e-05\n",
      " 8.46063025e-05 6.10775991e-05 6.28065426e-05 9.99391401e-01\n",
      " 3.18906141e-05 2.46355682e-05 3.84403607e-05 2.46270801e-06]\n",
      "HeadSittingScore1 [8.67967139e-05 1.17612093e-04 1.07029313e-04 1.61502078e-04\n",
      " 1.28117870e-04 9.24887590e-05 9.51068685e-05 9.99063810e-01\n",
      " 4.82914091e-05 3.73052177e-05 5.82103588e-05 3.72923412e-06]\n",
      "HeadSittingScore1 [8.70568289e-05 1.17892577e-04 1.07290240e-04 1.63921914e-04\n",
      " 1.28512981e-04 9.24884239e-05 9.51065239e-05 9.99060191e-01\n",
      " 4.82912342e-05 3.73050826e-05 5.82101479e-05 3.73308335e-06]\n",
      "HeadSittingScore1 [8.70568342e-05 1.17892584e-04 1.07290246e-04 1.63861097e-04\n",
      " 1.28512989e-04 9.24884296e-05 9.51065297e-05 9.99060252e-01\n",
      " 4.82912371e-05 3.73050849e-05 5.82101515e-05 3.73308357e-06]\n",
      "HeadSittingScore1 [8.70568329e-05 1.17892472e-04 1.07290245e-04 1.63861095e-04\n",
      " 1.28512987e-04 9.24884282e-05 9.51065283e-05 9.99060237e-01\n",
      " 4.82912364e-05 3.73050843e-05 5.82251549e-05 3.73308352e-06]\n",
      "HeadSittingScore1 [8.62610787e-05 1.16814846e-04 1.06308423e-04 1.59453302e-04\n",
      " 1.27336954e-04 9.16420590e-05 8.90105042e-05 9.99076968e-01\n",
      " 4.78493193e-05 3.69637024e-05 5.76923317e-05 3.69906033e-06]\n",
      "HeadSittingScore1 [8.62599179e-05 1.16814507e-04 1.06308114e-04 1.62361116e-04\n",
      " 1.27336584e-04 9.16417926e-05 8.90102676e-05 9.99074064e-01\n",
      " 4.78491802e-05 3.69635949e-05 5.76921640e-05 3.69891101e-06]\n",
      "HeadSittingScore1 [1.00754038e-04 1.36439043e-04 1.24167603e-04 1.89669797e-04\n",
      " 1.48728803e-04 1.07037378e-04 1.10067320e-04 9.98910986e-01\n",
      " 5.65083139e-05 4.31733838e-05 6.81451130e-05 4.32289500e-06]\n",
      "HeadSittingScore1 [2.64645876e-04 3.58377994e-04 3.26145182e-04 4.98290911e-04\n",
      " 3.90658925e-04 2.81150028e-04 2.89108633e-04 9.97139445e-01\n",
      " 1.48427721e-04 1.13401489e-04 1.78993551e-04 1.13547166e-05]\n",
      "HeadSittingScore1 [1.79431572e-04 2.42986430e-04 2.21132030e-04 3.37784138e-04\n",
      " 2.64873455e-04 1.90624543e-04 1.96020614e-04 9.98060563e-01\n",
      " 1.00636965e-04 7.68881556e-05 1.21360699e-04 7.69839825e-06]\n",
      "HeadSittingScore1 [1.79431582e-04 2.42986443e-04 2.21132043e-04 3.37728176e-04\n",
      " 2.64873470e-04 1.90624554e-04 1.96020625e-04 9.98060619e-01\n",
      " 1.00636970e-04 7.68881599e-05 1.21360706e-04 7.69839868e-06]\n",
      "HeadSittingScore1 [1.79429690e-04 2.42986444e-04 2.21132043e-04 3.37728176e-04\n",
      " 2.64873470e-04 1.90624554e-04 1.96020626e-04 9.98060621e-01\n",
      " 1.00636740e-04 7.68881601e-05 1.21360706e-04 7.69839869e-06]\n",
      "HeadSittingScore1 [3.67338694e-04 4.97455705e-04 4.52714130e-04 6.91416383e-04\n",
      " 5.42264074e-04 3.90257459e-04 4.01304604e-04 9.96029593e-01\n",
      " 2.06029745e-04 1.57409826e-04 2.48455380e-04 1.57606009e-05]\n",
      "HeadSittingScore1 [3.67342525e-04 4.97455646e-04 4.52714076e-04 6.91530909e-04\n",
      " 5.42264009e-04 3.90257412e-04 4.01304556e-04 9.96029474e-01\n",
      " 2.06029721e-04 1.57409807e-04 2.48456530e-04 1.57605990e-05]\n",
      "HeadSittingScore1 [3.62773833e-04 4.91268718e-04 4.47083606e-04 6.82930239e-04\n",
      " 5.35519794e-04 3.85403725e-04 3.74336727e-04 9.96100833e-01\n",
      " 2.03467299e-04 1.55452079e-04 2.45366440e-04 1.55645821e-05]\n",
      "HeadSittingScore1 [3.62770008e-04 4.91268720e-04 4.47083607e-04 6.82930242e-04\n",
      " 5.35519796e-04 3.85403726e-04 3.74336728e-04 9.96100837e-01\n",
      " 2.03467300e-04 1.55452080e-04 2.45366441e-04 1.55645822e-05]\n",
      "HeadSittingScore1 [3.62708093e-04 4.91184874e-04 4.47007302e-04 6.82813685e-04\n",
      " 5.35428397e-04 5.56010631e-04 3.74272839e-04 9.95930830e-01\n",
      " 2.03432574e-04 1.55425548e-04 2.45324564e-04 1.55619257e-05]\n",
      "HeadSittingScore1 [3.62700123e-04 4.91174082e-04 4.46997480e-04 6.82798681e-04\n",
      " 5.35416633e-04 5.55998414e-04 3.96237129e-04 9.95908946e-01\n",
      " 2.03428104e-04 1.55422133e-04 2.45319173e-04 1.55615838e-05]\n",
      "HeadSittingScore1 [3.62700400e-04 4.91174456e-04 4.46997822e-04 6.82036384e-04\n",
      " 5.35417041e-04 5.55998839e-04 3.96237431e-04 9.95909707e-01\n",
      " 2.03428259e-04 1.55422252e-04 2.45319361e-04 1.55612119e-05]\n",
      "HeadSittingScore1 [3.62700423e-04 4.91174487e-04 4.46997850e-04 6.82036427e-04\n",
      " 5.35417075e-04 5.55998874e-04 3.96237456e-04 9.95909770e-01\n",
      " 2.03428272e-04 1.55422262e-04 2.45256159e-04 1.55612129e-05]\n",
      "HeadSittingScore1 [3.62700423e-04 4.91174487e-04 4.46997850e-04 6.82036427e-04\n",
      " 5.35417075e-04 5.55998874e-04 3.96237456e-04 9.95909770e-01\n",
      " 2.03428272e-04 1.55422262e-04 2.45256159e-04 1.55612129e-05]\n",
      "HeadSittingScore1 [3.62753671e-04 4.91246597e-04 4.47063474e-04 6.82136557e-04\n",
      " 5.35495680e-04 4.09270275e-04 3.96295628e-04 9.96055979e-01\n",
      " 2.03458137e-04 1.55445079e-04 2.45292165e-04 1.55634974e-05]\n",
      "HeadSittingScore1 [3.62753671e-04 4.91246597e-04 4.47063474e-04 6.82136557e-04\n",
      " 5.35495680e-04 4.09270275e-04 3.96295628e-04 9.96055979e-01\n",
      " 2.03458137e-04 1.55445079e-04 2.45292165e-04 1.55634974e-05]\n",
      "HeadSittingScore1 [3.62759245e-04 4.91254145e-04 4.47070343e-04 6.82147038e-04\n",
      " 5.35503908e-04 3.93911366e-04 3.96301717e-04 9.96071284e-01\n",
      " 2.03460797e-04 1.55447468e-04 2.45295934e-04 1.55637366e-05]\n",
      "HeadSittingScore1 [3.62759245e-04 4.91254145e-04 4.47070343e-04 6.82147038e-04\n",
      " 5.35503908e-04 3.93911366e-04 3.96301717e-04 9.96071284e-01\n",
      " 2.03460797e-04 1.55447468e-04 2.45295934e-04 1.55637366e-05]\n",
      "HeadSittingScore1 [3.62759245e-04 4.91254145e-04 4.47070343e-04 6.82147038e-04\n",
      " 5.35503908e-04 3.93911366e-04 3.96301717e-04 9.96071284e-01\n",
      " 2.03460797e-04 1.55447468e-04 2.45295934e-04 1.55637366e-05]\n",
      "HeadSittingScore1 [3.62767217e-04 4.91264941e-04 4.47080168e-04 6.82162029e-04\n",
      " 5.35515677e-04 3.93920023e-04 3.74333849e-04 9.96093175e-01\n",
      " 2.03465268e-04 1.55450884e-04 2.45301324e-04 1.55640786e-05]\n",
      "HeadSittingScore1 [3.62771690e-04 4.91270999e-04 4.47085681e-04 6.69840094e-04\n",
      " 5.35522280e-04 3.93924880e-04 3.74338464e-04 9.96105456e-01\n",
      " 2.03468244e-04 1.55452800e-04 2.45304349e-04 1.55642705e-05]\n",
      "HeadSittingScore1 [3.62770554e-04 4.91269460e-04 4.47084281e-04 6.69837997e-04\n",
      " 5.35520603e-04 3.93923647e-04 3.74337199e-04 9.96102337e-01\n",
      " 2.03467140e-04 1.55452314e-04 2.45303581e-04 1.86959994e-05]\n"
     ]
    },
    {
     "ename": "KeyboardInterrupt",
     "evalue": "",
     "output_type": "error",
     "traceback": [
      "\u001b[0;31m---------------------------------------------------------------------------\u001b[0m",
      "\u001b[0;31mKeyboardInterrupt\u001b[0m                         Traceback (most recent call last)",
      "Cell \u001b[0;32mIn[26], line 15\u001b[0m\n\u001b[1;32m     13\u001b[0m image\u001b[38;5;241m.\u001b[39mflags\u001b[38;5;241m.\u001b[39mwriteable \u001b[38;5;241m=\u001b[39m \u001b[38;5;28;01mFalse\u001b[39;00m\n\u001b[1;32m     14\u001b[0m image \u001b[38;5;241m=\u001b[39m cv2\u001b[38;5;241m.\u001b[39mcvtColor(image, cv2\u001b[38;5;241m.\u001b[39mCOLOR_BGR2RGB)\n\u001b[0;32m---> 15\u001b[0m results \u001b[38;5;241m=\u001b[39m \u001b[43mholistic\u001b[49m\u001b[38;5;241;43m.\u001b[39;49m\u001b[43mprocess\u001b[49m\u001b[43m(\u001b[49m\u001b[43mimage\u001b[49m\u001b[43m)\u001b[49m\n\u001b[1;32m     17\u001b[0m image\u001b[38;5;241m.\u001b[39mflags\u001b[38;5;241m.\u001b[39mwriteable \u001b[38;5;241m=\u001b[39m \u001b[38;5;28;01mTrue\u001b[39;00m\n\u001b[1;32m     18\u001b[0m image \u001b[38;5;241m=\u001b[39m cv2\u001b[38;5;241m.\u001b[39mcvtColor(image, cv2\u001b[38;5;241m.\u001b[39mCOLOR_BGR2RGB)\n",
      "File \u001b[0;32m/Library/Frameworks/Python.framework/Versions/3.10/lib/python3.10/site-packages/mediapipe/python/solutions/holistic.py:160\u001b[0m, in \u001b[0;36mHolistic.process\u001b[0;34m(self, image)\u001b[0m\n\u001b[1;32m    136\u001b[0m \u001b[39mdef\u001b[39;00m \u001b[39mprocess\u001b[39m(\u001b[39mself\u001b[39m, image: np\u001b[39m.\u001b[39mndarray) \u001b[39m-\u001b[39m\u001b[39m>\u001b[39m NamedTuple:\n\u001b[1;32m    137\u001b[0m \u001b[39m  \u001b[39m\u001b[39m\"\"\"Processes an RGB image and returns the pose landmarks, left and right hand landmarks, and face landmarks on the most prominent person detected.\u001b[39;00m\n\u001b[1;32m    138\u001b[0m \n\u001b[1;32m    139\u001b[0m \u001b[39m  Args:\u001b[39;00m\n\u001b[0;32m   (...)\u001b[0m\n\u001b[1;32m    157\u001b[0m \u001b[39m         \"enable_segmentation\" is set to true.\u001b[39;00m\n\u001b[1;32m    158\u001b[0m \u001b[39m  \"\"\"\u001b[39;00m\n\u001b[0;32m--> 160\u001b[0m   results \u001b[39m=\u001b[39m \u001b[39msuper\u001b[39;49m()\u001b[39m.\u001b[39;49mprocess(input_data\u001b[39m=\u001b[39;49m{\u001b[39m'\u001b[39;49m\u001b[39mimage\u001b[39;49m\u001b[39m'\u001b[39;49m: image})\n\u001b[1;32m    161\u001b[0m   \u001b[39mif\u001b[39;00m results\u001b[39m.\u001b[39mpose_landmarks:  \u001b[39m# pytype: disable=attribute-error\u001b[39;00m\n\u001b[1;32m    162\u001b[0m     \u001b[39mfor\u001b[39;00m landmark \u001b[39min\u001b[39;00m results\u001b[39m.\u001b[39mpose_landmarks\u001b[39m.\u001b[39mlandmark:  \u001b[39m# pytype: disable=attribute-error\u001b[39;00m\n",
      "File \u001b[0;32m/Library/Frameworks/Python.framework/Versions/3.10/lib/python3.10/site-packages/mediapipe/python/solution_base.py:365\u001b[0m, in \u001b[0;36mSolutionBase.process\u001b[0;34m(self, input_data)\u001b[0m\n\u001b[1;32m    359\u001b[0m   \u001b[39melse\u001b[39;00m:\n\u001b[1;32m    360\u001b[0m     \u001b[39mself\u001b[39m\u001b[39m.\u001b[39m_graph\u001b[39m.\u001b[39madd_packet_to_input_stream(\n\u001b[1;32m    361\u001b[0m         stream\u001b[39m=\u001b[39mstream_name,\n\u001b[1;32m    362\u001b[0m         packet\u001b[39m=\u001b[39m\u001b[39mself\u001b[39m\u001b[39m.\u001b[39m_make_packet(input_stream_type,\n\u001b[1;32m    363\u001b[0m                                  data)\u001b[39m.\u001b[39mat(\u001b[39mself\u001b[39m\u001b[39m.\u001b[39m_simulated_timestamp))\n\u001b[0;32m--> 365\u001b[0m \u001b[39mself\u001b[39;49m\u001b[39m.\u001b[39;49m_graph\u001b[39m.\u001b[39;49mwait_until_idle()\n\u001b[1;32m    366\u001b[0m \u001b[39m# Create a NamedTuple object where the field names are mapping to the graph\u001b[39;00m\n\u001b[1;32m    367\u001b[0m \u001b[39m# output stream names.\u001b[39;00m\n\u001b[1;32m    368\u001b[0m solution_outputs \u001b[39m=\u001b[39m collections\u001b[39m.\u001b[39mnamedtuple(\n\u001b[1;32m    369\u001b[0m     \u001b[39m'\u001b[39m\u001b[39mSolutionOutputs\u001b[39m\u001b[39m'\u001b[39m, \u001b[39mself\u001b[39m\u001b[39m.\u001b[39m_output_stream_type_info\u001b[39m.\u001b[39mkeys())\n",
      "\u001b[0;31mKeyboardInterrupt\u001b[0m: "
     ]
    }
   ],
   "source": [
    "cap = cv2.VideoCapture(0)\n",
    "cap.set(3,640) # set Width\n",
    "cap.set(4,480) # set Height\n",
    "\n",
    "with mp_holistic.Holistic(min_detection_confidence=0.5, min_tracking_confidence=0.5) as holistic:\n",
    "    while(cap.isOpened()):\n",
    "        success, image = cap.read()\n",
    "            \n",
    "        if not success:\n",
    "            print(\"Empty camera frame!\")\n",
    "            continue\n",
    "\n",
    "        image.flags.writeable = False\n",
    "        image = cv2.cvtColor(image, cv2.COLOR_BGR2RGB)\n",
    "        results = holistic.process(image)\n",
    "            \n",
    "        image.flags.writeable = True\n",
    "        image = cv2.cvtColor(image, cv2.COLOR_BGR2RGB)\n",
    "            \n",
    "        # draw face landmarks \n",
    "        mp_drawing.draw_landmarks(image, results.face_landmarks, mp_holistic.FACEMESH_TESSELATION, landmark_drawing_spec=None, connection_drawing_spec=mp_drawing_styles.get_default_face_mesh_tesselation_style())\n",
    "\n",
    "        # right hand \n",
    "        mp_drawing.draw_landmarks(image, results.right_hand_landmarks, mp_holistic.HAND_CONNECTIONS)\n",
    "\n",
    "        # left hand\n",
    "        mp_drawing.draw_landmarks(image, results.left_hand_landmarks, mp_holistic.HAND_CONNECTIONS)\n",
    "\n",
    "        # pose detections\n",
    "        mp_drawing.draw_landmarks(image, results.pose_landmarks, mp_holistic.POSE_CONNECTIONS)\n",
    "\n",
    "        try:\n",
    "            # extract face landmarks\n",
    "            face = results.face_landmarks.landmark\n",
    "            face_row = list(np.array([[landmark.x, landmark.y, landmark.z, landmark.visibility] for landmark in face]).flatten())\n",
    "\n",
    "            # extract pose landmarks\n",
    "            pose = results.pose_landmarks.landmark\n",
    "            pose_row = list(np.array([[landmark.x, landmark.y, landmark.z, landmark.visibility] for landmark in pose]).flatten())\n",
    "            \n",
    "            # concate rows\n",
    "            row = pose_row+face_row\n",
    "\n",
    "            X = pd.DataFrame([row])\n",
    "\n",
    "            body_language_class = model.predict(X.values)[0]\n",
    "            body_language_prob = model.predict_proba(X.values)[0]\n",
    "            print(body_language_class, body_language_prob)\n",
    "\n",
    "        except:\n",
    "            pass\n",
    "        \n",
    "        cv2.imshow('Analysis', image)\n",
    "\n",
    "        k = cv2.waitKey(30) & 0xff\n",
    "        if k == 27: # press 'ESC' to quit\n",
    "            break\n",
    "\n",
    "    cap.release()\n",
    "    cv2.destroyAllWindows()"
   ]
  }
 ],
 "metadata": {
  "kernelspec": {
   "display_name": "Python 3.10.5 64-bit",
   "language": "python",
   "name": "python3"
  },
  "language_info": {
   "codemirror_mode": {
    "name": "ipython",
    "version": 3
   },
   "file_extension": ".py",
   "mimetype": "text/x-python",
   "name": "python",
   "nbconvert_exporter": "python",
   "pygments_lexer": "ipython3",
   "version": "3.10.5"
  },
  "orig_nbformat": 4,
  "vscode": {
   "interpreter": {
    "hash": "aee8b7b246df8f9039afb4144a1f6fd8d2ca17a180786b69acc140d282b71a49"
   }
  }
 },
 "nbformat": 4,
 "nbformat_minor": 2
}
